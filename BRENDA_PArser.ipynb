{
 "cells": [
  {
   "cell_type": "code",
   "execution_count": 3,
   "metadata": {},
   "outputs": [],
   "source": [
    "import numpy as np\n",
    "import datetime\n",
    "from colorama import Fore, Back, Style\n",
    "import json\n",
    "import pandas as pd"
   ]
  },
  {
   "cell_type": "code",
   "execution_count": 10,
   "metadata": {},
   "outputs": [],
   "source": [
    "def inhibitor_parse():\n",
    "    with open('/home/anna/Downloads/brenda_2023_1.json', 'r') as file:\n",
    "        data1 = json.load(file)\n",
    "    # data = pd.read_json(r'/home/anna/Downloads/brenda_2023_1.json')\n",
    "    # print(data.shape)\n",
    "    # print(data.columns)\n",
    "    # print(data.head(10))\n",
    "    frump = json.dumps(data1, sort_keys=True, indent=4)\n",
    "    # splenda = data[['data']].copy()\n",
    "    # splenda['id'] = splenda['data'].apply(lambda x: x.get('id'))\n",
    "    # splenda['name'] = splenda['data'].apply(lambda x: x.get('name'))\n",
    "    # splenda['name'] = splenda['data'].apply(lambda x: x.get('inhibitor'))\n",
    "    # splenda['inhibitor'] = splenda['data'].apply(lambda x: x.get('id').get('inhibitor'))\n",
    "\n",
    "    # splenda = splenda.drop(columns=['data'])\n",
    "\n",
    "# Parse the 'data' column using the custom function\n",
    "    print(frump)\n",
    "    # print(splenda.info())"
   ]
  },
  {
   "cell_type": "code",
   "execution_count": 11,
   "metadata": {},
   "outputs": [],
   "source": [
    "inhibitor_parse()"
   ]
  },
  {
   "cell_type": "code",
   "execution_count": null,
   "metadata": {},
   "outputs": [],
   "source": []
  }
 ],
 "metadata": {
  "kernelspec": {
   "display_name": "Python 3",
   "language": "python",
   "name": "python3"
  },
  "language_info": {
   "codemirror_mode": {
    "name": "ipython",
    "version": 3
   },
   "file_extension": ".py",
   "mimetype": "text/x-python",
   "name": "python",
   "nbconvert_exporter": "python",
   "pygments_lexer": "ipython3",
   "version": "3.9.5"
  }
 },
 "nbformat": 4,
 "nbformat_minor": 2
}
