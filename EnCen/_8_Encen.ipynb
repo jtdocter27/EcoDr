{
 "cells": [
  {
   "cell_type": "code",
   "execution_count": 1,
   "metadata": {},
   "outputs": [],
   "source": [
    "# -*- coding: utf-8 -*-\n",
    "#Initial Imports\n",
    "import gzip#; print('gzip version: ', gzip.__version__)\n",
    "import os#; print('os version: ', os.__version__)\n",
    "import re#; print('re version: ', re.__version__)\n",
    "import shutil#; print('shutil version: ', shutil.__version__)\n",
    "import requests#; print('requests version: ', requests.__version__)\n",
    "import wget#; print('wget version: ', wget.__version__)\n",
    "import subprocess#; print('subprocess version: ', subprocess.__version__)\n",
    "import time#; print('time version: ', time.__version__)\n",
    "from datetime import datetime\n",
    "from subprocess import PIPE, Popen\n",
    "from fake_useragent import UserAgent\n",
    "import os.path\n",
    "from os import path\n",
    "from Bio.ExPASy import Enzyme\n",
    "import numpy as np "
   ]
  },
  {
   "cell_type": "code",
   "execution_count": null,
   "metadata": {},
   "outputs": [],
   "source": []
  },
  {
   "cell_type": "code",
   "execution_count": null,
   "metadata": {},
   "outputs": [],
   "source": []
  },
  {
   "cell_type": "markdown",
   "metadata": {},
   "source": [
    "### Creating Unitprot.fasta for Use in Diamond"
   ]
  },
  {
   "cell_type": "code",
   "execution_count": null,
   "metadata": {},
   "outputs": [],
   "source": [
    "def tsv_to_fasta():\n",
    "    reference_library = 'uniprot.tsv' \n",
    "    #this creates a file named 'uniprot.tsv' on the working directory. Should show within the EcoDr/EcoDr folder. \n",
    "    ua = UserAgent()\n",
    "    header = {'User-Agent': str(ua.chrome)}\n",
    "    uniprot_url = 'https://rest.uniprot.org/uniprotkb/stream?fields=accession%2Cec%2Csequence&format=tsv&query=%28%28ec%3A*%29%29+AND+%28reviewed%3Atrue%29'\n",
    "    time.sleep(4)\n",
    "    uniprot = requests.get(uniprot_url, headers=header)\n",
    "    if uniprot.status_code == 200:\n",
    "        with open(reference_library, 'w+') as reference_library:\n",
    "            reference_library.write(uniprot.text)\n",
    "    print('Uniprot Reference File Has Been Created')\n",
    "####this step takes it the initial tsv and converts it to FASTA\n",
    "    input = os.path.abspath('uniprot.tsv')\n",
    "    output = 'uniprot.fasta'\n",
    "    with open(input, 'r') as input_file, open(output, 'w') as output_file:\n",
    "        header=next(input_file)\n",
    "        for line in input_file:\n",
    "            carrot = f'>{line}'\n",
    "            new_row = re.sub(r'(.*?\\t.*?)\\t', r'\\1\\n', carrot, 1)\n",
    "            new_row_with_tab_replaced_by_question_mark = new_row.replace(\"\\t\", \"?\")\n",
    "            # Be careful with the symbols used for replacement, as they have to align with the genomic summary string parsing\n",
    "            output_row_with_space_replaced_with_ampersand = new_row_with_tab_replaced_by_question_mark.replace(\"; \", \";_\")\n",
    "            #new_row2 = re.sub(r'(.*?\\t.*?)\\t', r'$', new_row, 0)\n",
    "            #this is regex, for the record. \n",
    "            output_file.write(output_row_with_space_replaced_with_ampersand)\n",
    "    print('FASTA has been created from TSV and is named', output)"
   ]
  },
  {
   "cell_type": "code",
   "execution_count": null,
   "metadata": {},
   "outputs": [],
   "source": []
  },
  {
   "cell_type": "markdown",
   "metadata": {},
   "source": [
    "### Diamond"
   ]
  },
  {
   "cell_type": "code",
   "execution_count": null,
   "metadata": {},
   "outputs": [],
   "source": [
    "def diamond_impl(dest, name):\n",
    "    print(os.getcwd())\n",
    "    matches = ''\n",
    "    output_folder = dest \n",
    "    print(\"DIAMOND search library is: \", output_folder)\n",
    "    if os.path.isfile('reference.dmnd'):\n",
    "        print(\"Library Detected\")\n",
    "    # If not present, then creates a DIAMOND library by referencing the exact location where the Uniprot library is saved\n",
    "    # If there currently is no reference library (.dmnd), then command makedb creates a DIAMOND library\n",
    "    else:\n",
    "        print(\"Creation of DIAMOND-formatted library...\")\n",
    "        makedb = ['diamond', 'makedb', '--in', '/projects/jodo9280/EcoDr/EcoDr/uniprot.fasta', '-d',\n",
    "                  'Uniprot_Reference_Library.dmnd']  # Reference library full pathway\n",
    "        #This is a list for the DIAMOND specific makedb function. \n",
    "        subprocess.run(makedb)\n",
    "        #This simply runs the function makedb\n",
    "        print(\"Library complete\")\n",
    "##_______________________________________________________________# This portion does the matching. The above portion creates the reference library from the unitprot fasta\n",
    "    for item in os.listdir(dest):\n",
    "        # Checks for file extension\n",
    "        if item.endswith('.faa') and not os.path.isfile(\n",
    "                os.path.basename(os.path.abspath(item)).rsplit('.', 1)[0] + \"_matches.tsv\"):\n",
    "            # Finds path of file\n",
    "            file_path = os.path.abspath(item)\n",
    "            # Finds the GCF/ASM name of the file by looking at the first part of the name before the .faa notation\n",
    "            if name == \"\":\n",
    "                print(os.path.basename(file_path).rsplit('.',1))\n",
    "                file_name = (os.path.basename(file_path)).rsplit('.', 1)[0]\n",
    "            else:\n",
    "                file_name = name\n",
    "            # New filename that ends with matches\n",
    "            matches = file_name + \"_matches.tsv\"\n",
    "            print(matches)\n",
    "            # If genome has not already undergone DIAMOND search and is currently located in the correct folder, then\n",
    "            # the subprocess function will run the diamond search\n",
    "            if not os.path.isfile(dest + \"/\" + matches) and os.path.abspath(matches) != output_folder:\n",
    "                print(\"Processing \", file_name)\n",
    "                # DIAMOND search using the full pathway of the protein files, max target sequence outputs only one best\n",
    "                # match with highest e-value which represent the chance of obtaining a better random match in the same database (Buchfink et al, 2021)\n",
    "                blastp = ['diamond', 'blastp', '-d', 'Uniprot_Reference_Library.dmnd', '-q', file_path, '-o', matches,\n",
    "                          '--max-target-seqs', '1', '--outfmt', '6']\n",
    "                time.sleep(4)\n",
    "                subprocess.run(blastp)\n",
    "        # (2) Creates a folder for DIAMOND outputs\n",
    "        #if not os.path.exists(output_folder):\n",
    "            #os.makedirs('DIAMOND_matches')\n",
    "\n",
    "    # Moves all DIAMOND search outputs into the folder\n",
    "        if item.endswith('_matches.tsv'):\n",
    "            if os.path.exists(os.path.join(output_folder, item)):\n",
    "                print(f\"Overwriting: {item}\")\n",
    "                os.remove(os.path.join(output_folder, item))\n",
    "            shutil.move(os.path.abspath(item), output_folder)\n",
    "    print(\"diamond_impl--success\")\n",
    "    # Returns the location of the DIAMOND matches folder\n",
    "    return output_folder"
   ]
  },
  {
   "cell_type": "code",
   "execution_count": null,
   "metadata": {},
   "outputs": [],
   "source": []
  },
  {
   "cell_type": "markdown",
   "metadata": {},
   "source": [
    "### Calling Script"
   ]
  },
  {
   "cell_type": "code",
   "execution_count": null,
   "metadata": {},
   "outputs": [],
   "source": [
    "metagenome = 'Some.faa metagenome file in an EnCen Directory' \n",
    "abspath = os.path.abspath(metagenome) \n",
    "metagenome_name = 'metagenome_analysis_output'\n",
    "desired_location = '/projects/jodo9280/EcoDr/EcoDr/EnCen'\n",
    "#______________________________________________________________#\n",
    "os.chdir(desired_location) #-> we are in the folder we want\n",
    "if os.path.exists(metagenome_name):\n",
    "    shutil.rmtree(metagenome_name)\n",
    "    os.mkdir(metagenome_name)\n",
    "else:#makes a new directory called metagenome_name\n",
    "    os.mkdir(metagenome_name)\n",
    "desired_location = desired_location + \"/\" + metagenome_name #-> this will make a folder called 'metagenome_analysis_output' within the 'desired_location' \n",
    "\n",
    "shutil.copy(abspath, desired_location) #moves synbio file to Test Cases folder\n",
    "#matches = metagenome + \"_matches\""
   ]
  },
  {
   "cell_type": "code",
   "execution_count": null,
   "metadata": {},
   "outputs": [],
   "source": [
    "diamond = diamond_impl(desired_location, metagenome) #-> Takes in the path and directory\n",
    "#desired_location is where all the DIAMOND matches will go. \n"
   ]
  }
 ],
 "metadata": {
  "kernelspec": {
   "display_name": "Python 3",
   "language": "python",
   "name": "python3"
  },
  "language_info": {
   "codemirror_mode": {
    "name": "ipython",
    "version": 3
   },
   "file_extension": ".py",
   "mimetype": "text/x-python",
   "name": "python",
   "nbconvert_exporter": "python",
   "pygments_lexer": "ipython3",
   "version": "3.11.5"
  }
 },
 "nbformat": 4,
 "nbformat_minor": 2
}
